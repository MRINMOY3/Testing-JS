{
 "cells": [
  {
   "cell_type": "markdown",
   "metadata": {},
   "source": [
    "### Machine Learning\n",
    "\n",
    "\n",
    "    A computer program which can Improve It's Performance P on a given task T with experience E\n",
    "    \n",
    "    \n",
    "    Task -> prediction, recommandation, object detection, pattern detection..."
   ]
  },
  {
   "cell_type": "markdown",
   "metadata": {},
   "source": [
    "    Reinforcement Learning + Computer Vision + Signal Processing => AI"
   ]
  },
  {
   "cell_type": "markdown",
   "metadata": {},
   "source": [
    "**Chapter 1 should be complete**\n"
   ]
  },
  {
   "cell_type": "markdown",
   "metadata": {},
   "source": [
    "#### Types of Machine Learning \n",
    "\n",
    "            how you can train your machine with data\n",
    "\n",
    "    Supervised Machine Learning\n",
    "    \n",
    "    Un-Supervised Machine Learning\n",
    "    \n",
    "    Re-inforcement Learning \n",
    "    \n",
    "  \n",
    "#### On the basis Scale \n",
    "\n",
    "    Online Learning / On the fly learning\n",
    "    \n",
    "    Batch Learning\n",
    "    \n",
    "    \n",
    "#### Algorithm \n",
    "\n",
    "    Model Based Machine Learning  (parametric machine learning model)\n",
    "    \n",
    "        y = w1 * x1 + w2 * x2 + b -> (w1, w2, b) -> parameters\n",
    "    \n",
    "    Instance Based Machine learning (non-parametric machine learning model)\n",
    "    \n",
    "        "
   ]
  },
  {
   "cell_type": "markdown",
   "metadata": {},
   "source": [
    "    R&D -> high level maths\n",
    "\n",
    "    Development / Product -> practical machine learning (Basic maths)"
   ]
  },
  {
   "cell_type": "markdown",
   "metadata": {},
   "source": [
    "# Machine Learning\n",
    "\n",
    "## `1. Supervised Machine Learning`\n",
    "\n",
    "\n",
    "## `2. Unsupervised Machine Learning`\n",
    "\n",
    "## `3. Reinforcement Learning`"
   ]
  },
  {
   "cell_type": "markdown",
   "metadata": {},
   "source": []
  },
  {
   "cell_type": "markdown",
   "metadata": {},
   "source": []
  }
 ],
 "metadata": {
  "kernelspec": {
   "display_name": "Python 3",
   "language": "python",
   "name": "python3"
  },
  "language_info": {
   "codemirror_mode": {
    "name": "ipython",
    "version": 3
   },
   "file_extension": ".py",
   "mimetype": "text/x-python",
   "name": "python",
   "nbconvert_exporter": "python",
   "pygments_lexer": "ipython3",
   "version": "3.8.3"
  }
 },
 "nbformat": 4,
 "nbformat_minor": 4
}
